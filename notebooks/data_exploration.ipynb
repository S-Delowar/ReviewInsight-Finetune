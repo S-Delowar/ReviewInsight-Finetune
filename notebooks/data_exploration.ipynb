{
 "cells": [
  {
   "cell_type": "markdown",
   "id": "2c07752d",
   "metadata": {},
   "source": [
    "# Data Exploration"
   ]
  },
  {
   "cell_type": "code",
   "execution_count": 2,
   "id": "b0c1cb76",
   "metadata": {},
   "outputs": [],
   "source": [
    "import pandas as pd\n",
    "import matplotlib.pyplot as plt\n",
    "import seaborn as sns"
   ]
  },
  {
   "cell_type": "code",
   "execution_count": 3,
   "id": "628f5bfa",
   "metadata": {},
   "outputs": [
    {
     "name": "stdout",
     "output_type": "stream",
     "text": [
      "Working dir: c:\\Users\\Asus\\Desktop\\llm projects\\ReviewInsight-Finetune\n"
     ]
    }
   ],
   "source": [
    "import os\n",
    "import sys\n",
    "\n",
    "project_root = os.path.abspath(os.path.join(os.getcwd(), \"..\"))\n",
    "os.chdir(project_root)\n",
    "sys.path.append(project_root)\n",
    "\n",
    "print(\"Working dir:\", os.getcwd())"
   ]
  },
  {
   "cell_type": "code",
   "execution_count": 4,
   "id": "054ef5d9",
   "metadata": {},
   "outputs": [
    {
     "name": "stdout",
     "output_type": "stream",
     "text": [
      "Loading raw data from artifacts/data/raw/Electronics_5.json...\n",
      "Loaded 1689188 records with 3 columns.\n"
     ]
    }
   ],
   "source": [
    "from src.data_curation.load_data import load_raw_data\n",
    "\n",
    "df = load_raw_data(\"artifacts/data/raw/Electronics_5.json\")"
   ]
  },
  {
   "cell_type": "code",
   "execution_count": 5,
   "id": "dbf2f611",
   "metadata": {},
   "outputs": [
    {
     "name": "stdout",
     "output_type": "stream",
     "text": [
      "Shape of the dataframe: (1689188, 3)\n"
     ]
    }
   ],
   "source": [
    "# Dataset Info\n",
    "print(f\"Shape of the dataframe: {df.shape}\")\n"
   ]
  },
  {
   "cell_type": "code",
   "execution_count": 6,
   "id": "7177e43f",
   "metadata": {},
   "outputs": [
    {
     "name": "stdout",
     "output_type": "stream",
     "text": [
      "<class 'pandas.core.frame.DataFrame'>\n",
      "RangeIndex: 1689188 entries, 0 to 1689187\n",
      "Data columns (total 3 columns):\n",
      " #   Column          Non-Null Count    Dtype \n",
      "---  ------          --------------    ----- \n",
      " 0   product_id      1689188 non-null  object\n",
      " 1   review_body     1689188 non-null  object\n",
      " 2   review_summary  1689188 non-null  object\n",
      "dtypes: object(3)\n",
      "memory usage: 38.7+ MB\n"
     ]
    }
   ],
   "source": [
    "df.info()"
   ]
  },
  {
   "cell_type": "code",
   "execution_count": 7,
   "id": "87023f18",
   "metadata": {},
   "outputs": [
    {
     "data": {
      "text/html": [
       "<div>\n",
       "<style scoped>\n",
       "    .dataframe tbody tr th:only-of-type {\n",
       "        vertical-align: middle;\n",
       "    }\n",
       "\n",
       "    .dataframe tbody tr th {\n",
       "        vertical-align: top;\n",
       "    }\n",
       "\n",
       "    .dataframe thead th {\n",
       "        text-align: right;\n",
       "    }\n",
       "</style>\n",
       "<table border=\"1\" class=\"dataframe\">\n",
       "  <thead>\n",
       "    <tr style=\"text-align: right;\">\n",
       "      <th></th>\n",
       "      <th>product_id</th>\n",
       "      <th>review_body</th>\n",
       "      <th>review_summary</th>\n",
       "    </tr>\n",
       "  </thead>\n",
       "  <tbody>\n",
       "    <tr>\n",
       "      <th>0</th>\n",
       "      <td>0528881469</td>\n",
       "      <td>We got this GPS for my husband who is an (OTR)...</td>\n",
       "      <td>Gotta have GPS!</td>\n",
       "    </tr>\n",
       "    <tr>\n",
       "      <th>1</th>\n",
       "      <td>0528881469</td>\n",
       "      <td>I'm a professional OTR truck driver, and I bou...</td>\n",
       "      <td>Very Disappointed</td>\n",
       "    </tr>\n",
       "    <tr>\n",
       "      <th>2</th>\n",
       "      <td>0528881469</td>\n",
       "      <td>Well, what can I say.  I've had this unit in m...</td>\n",
       "      <td>1st impression</td>\n",
       "    </tr>\n",
       "  </tbody>\n",
       "</table>\n",
       "</div>"
      ],
      "text/plain": [
       "   product_id                                        review_body  \\\n",
       "0  0528881469  We got this GPS for my husband who is an (OTR)...   \n",
       "1  0528881469  I'm a professional OTR truck driver, and I bou...   \n",
       "2  0528881469  Well, what can I say.  I've had this unit in m...   \n",
       "\n",
       "      review_summary  \n",
       "0    Gotta have GPS!  \n",
       "1  Very Disappointed  \n",
       "2     1st impression  "
      ]
     },
     "execution_count": 7,
     "metadata": {},
     "output_type": "execute_result"
    }
   ],
   "source": [
    "df.head(3)"
   ]
  },
  {
   "cell_type": "code",
   "execution_count": 8,
   "id": "086af952",
   "metadata": {},
   "outputs": [
    {
     "name": "stdout",
     "output_type": "stream",
     "text": [
      "We got this GPS for my husband who is an (OTR) over the road trucker.  Very Impressed with the shipping time, it arrived a few days earlier than expected...  within a week of use however it started freezing up... could of just been a glitch in that unit.  Worked great when it worked!  Will work great for the normal person as well but does have the \"trucker\" option. (the big truck routes - tells you when a scale is coming up ect...)  Love the bigger screen, the ease of use, the ease of putting addresses into memory.  Nothing really bad to say about the unit with the exception of it freezing which is probably one in a million and that's just my luck.  I contacted the seller and within minutes of my email I received a email back with instructions for an exchange! VERY impressed all the way around!\n"
     ]
    }
   ],
   "source": [
    "print(df.iloc[0][\"review_body\"])"
   ]
  },
  {
   "cell_type": "code",
   "execution_count": 9,
   "id": "97a1fd8c",
   "metadata": {},
   "outputs": [
    {
     "name": "stdout",
     "output_type": "stream",
     "text": [
      "Missing values:\n",
      " product_id        0\n",
      "review_body       0\n",
      "review_summary    0\n",
      "dtype: int64\n",
      "Total duplicates: 210\n"
     ]
    }
   ],
   "source": [
    "# Data Quality\n",
    "\n",
    "print(\"Missing values:\\n\", df.isnull().sum())\n",
    "duplicates = df.duplicated(subset=[\"product_id\", \"review_body\"]).sum()\n",
    "print(f\"Total duplicates: {duplicates}\")\n"
   ]
  },
  {
   "cell_type": "code",
   "execution_count": 10,
   "id": "49110d75",
   "metadata": {},
   "outputs": [
    {
     "name": "stdout",
     "output_type": "stream",
     "text": [
      "Unique products: 63001\n"
     ]
    }
   ],
   "source": [
    "# Product Coverage\n",
    "\n",
    "unique_products = df[\"product_id\"].nunique()\n",
    "print(f\"Unique products: {unique_products}\")"
   ]
  },
  {
   "cell_type": "code",
   "execution_count": 11,
   "id": "62d592a2",
   "metadata": {},
   "outputs": [
    {
     "name": "stdout",
     "output_type": "stream",
     "text": [
      "\n",
      "Top 10 products with most reviews:\n",
      "\n",
      " product_id\n",
      "B007WTAJTO    4915\n",
      "B003ES5ZUU    4143\n",
      "B00DR0PDNE    3798\n",
      "B0019EHU8G    3435\n",
      "B002WE6D44    2813\n",
      "B003ELYQGG    2652\n",
      "B0002L5R78    2599\n",
      "B009SYZ8OC    2542\n",
      "B00BGGDVOO    2104\n",
      "B002V88HFE    2082\n",
      "Name: review_body, dtype: int64\n",
      "\n",
      "Top 10 products with fewest reviews:\n",
      " product_id\n",
      "B000FLS78Q    5\n",
      "B000FLNU4C    5\n",
      "B000FLD01K    5\n",
      "B000FL8LZA    5\n",
      "B000FOL7Q2    5\n",
      "B000FPE1D2    5\n",
      "B000FPCN1O    5\n",
      "B000FOVTDS    5\n",
      "B000FHBNI6    5\n",
      "B000FGVFP8    5\n",
      "Name: review_body, dtype: int64\n"
     ]
    }
   ],
   "source": [
    "# Number of reviews per product\n",
    "\n",
    "reviews_per_product = df.groupby(\"product_id\")[\"review_body\"].count()\n",
    "print(\"\\nTop 10 products with most reviews:\\n\\n\", reviews_per_product.sort_values(ascending=False).head(10))\n",
    "print(\"\\nTop 10 products with fewest reviews:\\n\", reviews_per_product.sort_values(ascending=True).head(10))"
   ]
  },
  {
   "cell_type": "code",
   "execution_count": 12,
   "id": "b0685bae",
   "metadata": {},
   "outputs": [
    {
     "name": "stdout",
     "output_type": "stream",
     "text": [
      "Min reviews per product: 5\n",
      "Max reviews per product: 4915\n",
      "Average reviews per product: 26.81208234789924\n",
      "Median reviews per product: 11.0\n",
      "Mod reviews per product: 0    5\n",
      "Name: review_body, dtype: int64\n"
     ]
    }
   ],
   "source": [
    "# Review Stats\n",
    "# -------------------\n",
    "print(\"Min reviews per product:\", reviews_per_product.min())\n",
    "print(\"Max reviews per product:\", reviews_per_product.max())\n",
    "print(\"Average reviews per product:\", reviews_per_product.mean())\n",
    "print(\"Median reviews per product:\", reviews_per_product.median())\n",
    "print(\"Mod reviews per product:\", reviews_per_product.mode())"
   ]
  },
  {
   "cell_type": "code",
   "execution_count": 13,
   "id": "24a151c3",
   "metadata": {},
   "outputs": [],
   "source": [
    "# Text Length Analysis\n",
    "# -------------------\n",
    "df[\"review_length_chars\"] = df[\"review_body\"].str.len()\n",
    "df[\"review_length_words\"] = df[\"review_body\"].str.split().str.len()"
   ]
  },
  {
   "cell_type": "code",
   "execution_count": 14,
   "id": "84b90dc0",
   "metadata": {},
   "outputs": [
    {
     "name": "stdout",
     "output_type": "stream",
     "text": [
      "\n",
      "Review length (characters):\n",
      "count    1.689188e+06\n",
      "mean     6.342017e+02\n",
      "std      9.030145e+02\n",
      "min      0.000000e+00\n",
      "25%      1.770000e+02\n",
      "50%      3.420000e+02\n",
      "75%      7.240000e+02\n",
      "max      3.270300e+04\n",
      "Name: review_length_chars, dtype: float64\n",
      "\n",
      "Review length (words):\n",
      "count    1.689188e+06\n",
      "mean     1.162784e+02\n",
      "std      1.614467e+02\n",
      "min      0.000000e+00\n",
      "25%      3.300000e+01\n",
      "50%      6.400000e+01\n",
      "75%      1.340000e+02\n",
      "max      6.141000e+03\n",
      "Name: review_length_words, dtype: float64\n"
     ]
    }
   ],
   "source": [
    "# Summary stats\n",
    "print(\"\\nReview length (characters):\")\n",
    "print(df[\"review_length_chars\"].describe())\n",
    "print(\"\\nReview length (words):\")\n",
    "print(df[\"review_length_words\"].describe())"
   ]
  },
  {
   "cell_type": "code",
   "execution_count": 15,
   "id": "987cf721",
   "metadata": {},
   "outputs": [
    {
     "data": {
      "text/html": [
       "<div>\n",
       "<style scoped>\n",
       "    .dataframe tbody tr th:only-of-type {\n",
       "        vertical-align: middle;\n",
       "    }\n",
       "\n",
       "    .dataframe tbody tr th {\n",
       "        vertical-align: top;\n",
       "    }\n",
       "\n",
       "    .dataframe thead th {\n",
       "        text-align: right;\n",
       "    }\n",
       "</style>\n",
       "<table border=\"1\" class=\"dataframe\">\n",
       "  <thead>\n",
       "    <tr style=\"text-align: right;\">\n",
       "      <th></th>\n",
       "      <th>product_id</th>\n",
       "      <th>review_body</th>\n",
       "      <th>review_summary</th>\n",
       "      <th>review_length_chars</th>\n",
       "      <th>review_length_words</th>\n",
       "    </tr>\n",
       "  </thead>\n",
       "  <tbody>\n",
       "    <tr>\n",
       "      <th>0</th>\n",
       "      <td>0528881469</td>\n",
       "      <td>We got this GPS for my husband who is an (OTR)...</td>\n",
       "      <td>Gotta have GPS!</td>\n",
       "      <td>805</td>\n",
       "      <td>149</td>\n",
       "    </tr>\n",
       "    <tr>\n",
       "      <th>1</th>\n",
       "      <td>0528881469</td>\n",
       "      <td>I'm a professional OTR truck driver, and I bou...</td>\n",
       "      <td>Very Disappointed</td>\n",
       "      <td>2175</td>\n",
       "      <td>427</td>\n",
       "    </tr>\n",
       "    <tr>\n",
       "      <th>2</th>\n",
       "      <td>0528881469</td>\n",
       "      <td>Well, what can I say.  I've had this unit in m...</td>\n",
       "      <td>1st impression</td>\n",
       "      <td>4607</td>\n",
       "      <td>846</td>\n",
       "    </tr>\n",
       "    <tr>\n",
       "      <th>3</th>\n",
       "      <td>0528881469</td>\n",
       "      <td>Not going to write a long review, even thought...</td>\n",
       "      <td>Great grafics, POOR GPS</td>\n",
       "      <td>2246</td>\n",
       "      <td>449</td>\n",
       "    </tr>\n",
       "    <tr>\n",
       "      <th>4</th>\n",
       "      <td>0528881469</td>\n",
       "      <td>I've had mine for a year and here's what we go...</td>\n",
       "      <td>Major issues, only excuses for support</td>\n",
       "      <td>1076</td>\n",
       "      <td>202</td>\n",
       "    </tr>\n",
       "  </tbody>\n",
       "</table>\n",
       "</div>"
      ],
      "text/plain": [
       "   product_id                                        review_body  \\\n",
       "0  0528881469  We got this GPS for my husband who is an (OTR)...   \n",
       "1  0528881469  I'm a professional OTR truck driver, and I bou...   \n",
       "2  0528881469  Well, what can I say.  I've had this unit in m...   \n",
       "3  0528881469  Not going to write a long review, even thought...   \n",
       "4  0528881469  I've had mine for a year and here's what we go...   \n",
       "\n",
       "                           review_summary  review_length_chars  \\\n",
       "0                         Gotta have GPS!                  805   \n",
       "1                       Very Disappointed                 2175   \n",
       "2                          1st impression                 4607   \n",
       "3                 Great grafics, POOR GPS                 2246   \n",
       "4  Major issues, only excuses for support                 1076   \n",
       "\n",
       "   review_length_words  \n",
       "0                  149  \n",
       "1                  427  \n",
       "2                  846  \n",
       "3                  449  \n",
       "4                  202  "
      ]
     },
     "execution_count": 15,
     "metadata": {},
     "output_type": "execute_result"
    }
   ],
   "source": [
    "df.head()"
   ]
  },
  {
   "cell_type": "code",
   "execution_count": 16,
   "id": "1282f354",
   "metadata": {},
   "outputs": [
    {
     "data": {
      "text/html": [
       "<div>\n",
       "<style scoped>\n",
       "    .dataframe tbody tr th:only-of-type {\n",
       "        vertical-align: middle;\n",
       "    }\n",
       "\n",
       "    .dataframe tbody tr th {\n",
       "        vertical-align: top;\n",
       "    }\n",
       "\n",
       "    .dataframe thead th {\n",
       "        text-align: right;\n",
       "    }\n",
       "</style>\n",
       "<table border=\"1\" class=\"dataframe\">\n",
       "  <thead>\n",
       "    <tr style=\"text-align: right;\">\n",
       "      <th></th>\n",
       "      <th>product_id</th>\n",
       "      <th>review_body</th>\n",
       "      <th>review_summary</th>\n",
       "      <th>review_length_chars</th>\n",
       "      <th>review_length_words</th>\n",
       "    </tr>\n",
       "  </thead>\n",
       "  <tbody>\n",
       "    <tr>\n",
       "      <th>2</th>\n",
       "      <td>0528881469</td>\n",
       "      <td>Well, what can I say.  I've had this unit in m...</td>\n",
       "      <td>1st impression</td>\n",
       "      <td>4607</td>\n",
       "      <td>846</td>\n",
       "    </tr>\n",
       "    <tr>\n",
       "      <th>237</th>\n",
       "      <td>1400501466</td>\n",
       "      <td>The Nook Tablet, in both the 16gb version and ...</td>\n",
       "      <td>The BEST Color E-Reader - With Bonus Features</td>\n",
       "      <td>4915</td>\n",
       "      <td>883</td>\n",
       "    </tr>\n",
       "    <tr>\n",
       "      <th>248</th>\n",
       "      <td>1400501466</td>\n",
       "      <td>Months later, I am still happy with this Table...</td>\n",
       "      <td>Outstanding 7\" Tablet</td>\n",
       "      <td>7761</td>\n",
       "      <td>1432</td>\n",
       "    </tr>\n",
       "    <tr>\n",
       "      <th>251</th>\n",
       "      <td>1400501466</td>\n",
       "      <td>I pulled the trigger on three of these on pre-...</td>\n",
       "      <td>People shouldn't be surprised about what it is...</td>\n",
       "      <td>6763</td>\n",
       "      <td>1223</td>\n",
       "    </tr>\n",
       "    <tr>\n",
       "      <th>252</th>\n",
       "      <td>1400501466</td>\n",
       "      <td>I went to a few places just to try testing the...</td>\n",
       "      <td>GREAT .cbz (comic file) reader an more!</td>\n",
       "      <td>4261</td>\n",
       "      <td>809</td>\n",
       "    </tr>\n",
       "    <tr>\n",
       "      <th>...</th>\n",
       "      <td>...</td>\n",
       "      <td>...</td>\n",
       "      <td>...</td>\n",
       "      <td>...</td>\n",
       "      <td>...</td>\n",
       "    </tr>\n",
       "    <tr>\n",
       "      <th>1689176</th>\n",
       "      <td>B00L3YHF6O</td>\n",
       "      <td>[Please read this review for full details and ...</td>\n",
       "      <td>Comprehensive review of the new updated SR20A ...</td>\n",
       "      <td>11244</td>\n",
       "      <td>1978</td>\n",
       "    </tr>\n",
       "    <tr>\n",
       "      <th>1689177</th>\n",
       "      <td>B00L3YHF6O</td>\n",
       "      <td>Bluetooth speakers have improved a lot over th...</td>\n",
       "      <td>Oooh, aahh, ROAR!</td>\n",
       "      <td>3172</td>\n",
       "      <td>546</td>\n",
       "    </tr>\n",
       "    <tr>\n",
       "      <th>1689180</th>\n",
       "      <td>B00L3YHF6O</td>\n",
       "      <td>My short review:If you have the money to spend...</td>\n",
       "      <td>Best sounding speaker at this price range</td>\n",
       "      <td>8576</td>\n",
       "      <td>1504</td>\n",
       "    </tr>\n",
       "    <tr>\n",
       "      <th>1689182</th>\n",
       "      <td>B00L3YHF6O</td>\n",
       "      <td>Move over Bose, JBL and Klipsch! There's a new...</td>\n",
       "      <td>Why This Will Be Amazon's Top Selling Portable...</td>\n",
       "      <td>5119</td>\n",
       "      <td>900</td>\n",
       "    </tr>\n",
       "    <tr>\n",
       "      <th>1689184</th>\n",
       "      <td>B00LGQ6HL8</td>\n",
       "      <td>Some people like DJ style headphones or earbud...</td>\n",
       "      <td>Thin and light, without compromising on sound ...</td>\n",
       "      <td>4227</td>\n",
       "      <td>685</td>\n",
       "    </tr>\n",
       "  </tbody>\n",
       "</table>\n",
       "<p>48157 rows × 5 columns</p>\n",
       "</div>"
      ],
      "text/plain": [
       "         product_id                                        review_body  \\\n",
       "2        0528881469  Well, what can I say.  I've had this unit in m...   \n",
       "237      1400501466  The Nook Tablet, in both the 16gb version and ...   \n",
       "248      1400501466  Months later, I am still happy with this Table...   \n",
       "251      1400501466  I pulled the trigger on three of these on pre-...   \n",
       "252      1400501466  I went to a few places just to try testing the...   \n",
       "...             ...                                                ...   \n",
       "1689176  B00L3YHF6O  [Please read this review for full details and ...   \n",
       "1689177  B00L3YHF6O  Bluetooth speakers have improved a lot over th...   \n",
       "1689180  B00L3YHF6O  My short review:If you have the money to spend...   \n",
       "1689182  B00L3YHF6O  Move over Bose, JBL and Klipsch! There's a new...   \n",
       "1689184  B00LGQ6HL8  Some people like DJ style headphones or earbud...   \n",
       "\n",
       "                                            review_summary  \\\n",
       "2                                           1st impression   \n",
       "237          The BEST Color E-Reader - With Bonus Features   \n",
       "248                                  Outstanding 7\" Tablet   \n",
       "251      People shouldn't be surprised about what it is...   \n",
       "252                GREAT .cbz (comic file) reader an more!   \n",
       "...                                                    ...   \n",
       "1689176  Comprehensive review of the new updated SR20A ...   \n",
       "1689177                                  Oooh, aahh, ROAR!   \n",
       "1689180          Best sounding speaker at this price range   \n",
       "1689182  Why This Will Be Amazon's Top Selling Portable...   \n",
       "1689184  Thin and light, without compromising on sound ...   \n",
       "\n",
       "         review_length_chars  review_length_words  \n",
       "2                       4607                  846  \n",
       "237                     4915                  883  \n",
       "248                     7761                 1432  \n",
       "251                     6763                 1223  \n",
       "252                     4261                  809  \n",
       "...                      ...                  ...  \n",
       "1689176                11244                 1978  \n",
       "1689177                 3172                  546  \n",
       "1689180                 8576                 1504  \n",
       "1689182                 5119                  900  \n",
       "1689184                 4227                  685  \n",
       "\n",
       "[48157 rows x 5 columns]"
      ]
     },
     "execution_count": 16,
     "metadata": {},
     "output_type": "execute_result"
    }
   ],
   "source": [
    "df[df[\"review_length_words\"] > 500]"
   ]
  },
  {
   "cell_type": "code",
   "execution_count": null,
   "id": "4e7e3f9f",
   "metadata": {},
   "outputs": [],
   "source": []
  },
  {
   "cell_type": "markdown",
   "id": "7434f2ba",
   "metadata": {},
   "source": [
    "### Cleaned data"
   ]
  },
  {
   "cell_type": "code",
   "execution_count": 17,
   "id": "99a3be0a",
   "metadata": {},
   "outputs": [],
   "source": [
    "from src.data_curation.preprocess import preprocess_reviews"
   ]
  },
  {
   "cell_type": "code",
   "execution_count": 18,
   "id": "717d97a9",
   "metadata": {},
   "outputs": [],
   "source": [
    "cleaned_df = preprocess_reviews(df)"
   ]
  },
  {
   "cell_type": "code",
   "execution_count": 19,
   "id": "96ae268f",
   "metadata": {},
   "outputs": [
    {
     "data": {
      "text/html": [
       "<div>\n",
       "<style scoped>\n",
       "    .dataframe tbody tr th:only-of-type {\n",
       "        vertical-align: middle;\n",
       "    }\n",
       "\n",
       "    .dataframe tbody tr th {\n",
       "        vertical-align: top;\n",
       "    }\n",
       "\n",
       "    .dataframe thead th {\n",
       "        text-align: right;\n",
       "    }\n",
       "</style>\n",
       "<table border=\"1\" class=\"dataframe\">\n",
       "  <thead>\n",
       "    <tr style=\"text-align: right;\">\n",
       "      <th></th>\n",
       "      <th>product_id</th>\n",
       "      <th>review_body</th>\n",
       "      <th>review_summary</th>\n",
       "      <th>review_length_chars</th>\n",
       "      <th>review_length_words</th>\n",
       "      <th>word_count</th>\n",
       "    </tr>\n",
       "  </thead>\n",
       "  <tbody>\n",
       "    <tr>\n",
       "      <th>0</th>\n",
       "      <td>0528881469</td>\n",
       "      <td>We got this GPS for my husband who is an (OTR)...</td>\n",
       "      <td>Gotta have GPS!</td>\n",
       "      <td>805</td>\n",
       "      <td>149</td>\n",
       "      <td>149</td>\n",
       "    </tr>\n",
       "    <tr>\n",
       "      <th>1</th>\n",
       "      <td>0528881469</td>\n",
       "      <td>I'm a professional OTR truck driver, and I bou...</td>\n",
       "      <td>Very Disappointed</td>\n",
       "      <td>2175</td>\n",
       "      <td>427</td>\n",
       "      <td>200</td>\n",
       "    </tr>\n",
       "    <tr>\n",
       "      <th>2</th>\n",
       "      <td>0528881469</td>\n",
       "      <td>Not going to write a long review, even thought...</td>\n",
       "      <td>Great grafics, POOR GPS</td>\n",
       "      <td>2246</td>\n",
       "      <td>449</td>\n",
       "      <td>200</td>\n",
       "    </tr>\n",
       "    <tr>\n",
       "      <th>3</th>\n",
       "      <td>0528881469</td>\n",
       "      <td>I've had mine for a year and here's what we go...</td>\n",
       "      <td>Major issues, only excuses for support</td>\n",
       "      <td>1076</td>\n",
       "      <td>202</td>\n",
       "      <td>200</td>\n",
       "    </tr>\n",
       "    <tr>\n",
       "      <th>4</th>\n",
       "      <td>0594451647</td>\n",
       "      <td>I am using this with a Nook HD+. It works as d...</td>\n",
       "      <td>HDMI Nook adapter cable</td>\n",
       "      <td>109</td>\n",
       "      <td>22</td>\n",
       "      <td>22</td>\n",
       "    </tr>\n",
       "  </tbody>\n",
       "</table>\n",
       "</div>"
      ],
      "text/plain": [
       "   product_id                                        review_body  \\\n",
       "0  0528881469  We got this GPS for my husband who is an (OTR)...   \n",
       "1  0528881469  I'm a professional OTR truck driver, and I bou...   \n",
       "2  0528881469  Not going to write a long review, even thought...   \n",
       "3  0528881469  I've had mine for a year and here's what we go...   \n",
       "4  0594451647  I am using this with a Nook HD+. It works as d...   \n",
       "\n",
       "                           review_summary  review_length_chars  \\\n",
       "0                         Gotta have GPS!                  805   \n",
       "1                       Very Disappointed                 2175   \n",
       "2                 Great grafics, POOR GPS                 2246   \n",
       "3  Major issues, only excuses for support                 1076   \n",
       "4                 HDMI Nook adapter cable                  109   \n",
       "\n",
       "   review_length_words  word_count  \n",
       "0                  149         149  \n",
       "1                  427         200  \n",
       "2                  449         200  \n",
       "3                  202         200  \n",
       "4                   22          22  "
      ]
     },
     "execution_count": 19,
     "metadata": {},
     "output_type": "execute_result"
    }
   ],
   "source": [
    "cleaned_df.head()"
   ]
  },
  {
   "cell_type": "markdown",
   "id": "d587e371",
   "metadata": {},
   "source": [
    "### Grouping Reviews"
   ]
  },
  {
   "cell_type": "code",
   "execution_count": 20,
   "id": "db8f4431",
   "metadata": {},
   "outputs": [],
   "source": [
    "from src.data_curation.group_reviews import group_reviews_by_product\n",
    "\n",
    "product_reviews = group_reviews_by_product(cleaned_df)"
   ]
  },
  {
   "cell_type": "code",
   "execution_count": 21,
   "id": "b345cd70",
   "metadata": {},
   "outputs": [
    {
     "data": {
      "text/html": [
       "<div>\n",
       "<style scoped>\n",
       "    .dataframe tbody tr th:only-of-type {\n",
       "        vertical-align: middle;\n",
       "    }\n",
       "\n",
       "    .dataframe tbody tr th {\n",
       "        vertical-align: top;\n",
       "    }\n",
       "\n",
       "    .dataframe thead th {\n",
       "        text-align: right;\n",
       "    }\n",
       "</style>\n",
       "<table border=\"1\" class=\"dataframe\">\n",
       "  <thead>\n",
       "    <tr style=\"text-align: right;\">\n",
       "      <th></th>\n",
       "      <th>product_id</th>\n",
       "      <th>reviews</th>\n",
       "      <th>reviews_count</th>\n",
       "    </tr>\n",
       "  </thead>\n",
       "  <tbody>\n",
       "    <tr>\n",
       "      <th>0</th>\n",
       "      <td>0528881469</td>\n",
       "      <td>[We got this GPS for my husband who is an (OTR...</td>\n",
       "      <td>4</td>\n",
       "    </tr>\n",
       "    <tr>\n",
       "      <th>1</th>\n",
       "      <td>0594451647</td>\n",
       "      <td>[I am using this with a Nook HD+. It works as ...</td>\n",
       "      <td>5</td>\n",
       "    </tr>\n",
       "    <tr>\n",
       "      <th>2</th>\n",
       "      <td>0594481813</td>\n",
       "      <td>[This item is just as was described in the ori...</td>\n",
       "      <td>8</td>\n",
       "    </tr>\n",
       "    <tr>\n",
       "      <th>3</th>\n",
       "      <td>0972683275</td>\n",
       "      <td>[This is a great buy, compared to a $60 or mor...</td>\n",
       "      <td>218</td>\n",
       "    </tr>\n",
       "    <tr>\n",
       "      <th>4</th>\n",
       "      <td>1400501466</td>\n",
       "      <td>[I saw this product on Amazon and thought \"wha...</td>\n",
       "      <td>38</td>\n",
       "    </tr>\n",
       "    <tr>\n",
       "      <th>5</th>\n",
       "      <td>1400501520</td>\n",
       "      <td>[Great Product, Great Sale, I love this Produc...</td>\n",
       "      <td>18</td>\n",
       "    </tr>\n",
       "    <tr>\n",
       "      <th>6</th>\n",
       "      <td>1400501776</td>\n",
       "      <td>[The Nook tablet is a great color e-reader wit...</td>\n",
       "      <td>19</td>\n",
       "    </tr>\n",
       "    <tr>\n",
       "      <th>7</th>\n",
       "      <td>1400532620</td>\n",
       "      <td>[Highly disappointed. I purchased the new B/W ...</td>\n",
       "      <td>33</td>\n",
       "    </tr>\n",
       "    <tr>\n",
       "      <th>8</th>\n",
       "      <td>1400532655</td>\n",
       "      <td>[Not worth saving a few bucks. Go with an iPad...</td>\n",
       "      <td>93</td>\n",
       "    </tr>\n",
       "    <tr>\n",
       "      <th>9</th>\n",
       "      <td>140053271X</td>\n",
       "      <td>[The new Nook \"Simple Touch\" is easy on my eye...</td>\n",
       "      <td>64</td>\n",
       "    </tr>\n",
       "  </tbody>\n",
       "</table>\n",
       "</div>"
      ],
      "text/plain": [
       "   product_id                                            reviews  \\\n",
       "0  0528881469  [We got this GPS for my husband who is an (OTR...   \n",
       "1  0594451647  [I am using this with a Nook HD+. It works as ...   \n",
       "2  0594481813  [This item is just as was described in the ori...   \n",
       "3  0972683275  [This is a great buy, compared to a $60 or mor...   \n",
       "4  1400501466  [I saw this product on Amazon and thought \"wha...   \n",
       "5  1400501520  [Great Product, Great Sale, I love this Produc...   \n",
       "6  1400501776  [The Nook tablet is a great color e-reader wit...   \n",
       "7  1400532620  [Highly disappointed. I purchased the new B/W ...   \n",
       "8  1400532655  [Not worth saving a few bucks. Go with an iPad...   \n",
       "9  140053271X  [The new Nook \"Simple Touch\" is easy on my eye...   \n",
       "\n",
       "   reviews_count  \n",
       "0              4  \n",
       "1              5  \n",
       "2              8  \n",
       "3            218  \n",
       "4             38  \n",
       "5             18  \n",
       "6             19  \n",
       "7             33  \n",
       "8             93  \n",
       "9             64  "
      ]
     },
     "execution_count": 21,
     "metadata": {},
     "output_type": "execute_result"
    }
   ],
   "source": [
    "product_reviews.head(10)"
   ]
  },
  {
   "cell_type": "code",
   "execution_count": 22,
   "id": "3464d2a6",
   "metadata": {},
   "outputs": [
    {
     "name": "stdout",
     "output_type": "stream",
     "text": [
      "We got this GPS for my husband who is an (OTR) over the road trucker.  Very Impressed with the shipping time, it arrived a few days earlier than expected...  within a week of use however it started freezing up... could of just been a glitch in that unit.  Worked great when it worked!  Will work great for the normal person as well but does have the \"trucker\" option. (the big truck routes - tells you when a scale is coming up ect...)  Love the bigger screen, the ease of use, the ease of putting addresses into memory.  Nothing really bad to say about the unit with the exception of it freezing which is probably one in a million and that's just my luck.  I contacted the seller and within minutes of my email I received a email back with instructions for an exchange! VERY impressed all the way around!\n",
      "\n",
      "I'm a professional OTR truck driver, and I bought a TND 700 at a truck stop hoping to make my life easier. Rand McNally, are you listening?First thing I did after charging it was connect it to my laptop and install the software and then attempt to update it. The software detected a problem with my update and wanted my home address so I could be sent a patch on an SD card. Hello? I don't think I'm all that unusual; my home address is a PO box that a friend checks weekly and that I might get to check every six months or so. I live in my truck and at truck stops. If you need to make a patch available on an SD card then you should send the SD cards to the truck stops where the devices are sold. I ran the update program multiple times until the program said that the TND 700 was completely updated.I programmed in the height (13'6\"), the length (53') and the weight (80,000#) of my rig and told it that I preferred highways. I was parked at a truck stop in the Cincinnati OH area. My next pickup was about 15\n",
      "\n",
      "Not going to write a long review, even thought this unit deserves one. I've driven well over 1-mil miles and done most of my own routing so I pretty know whats the fastest and shortest. Have been using a basic garmin for the past three years and with ANY Gps unit they'll ALL get you in trouble if you let them. I was really excited about this unit, due to the size and the features. Allot of great grafics and on screen info thats usefull. But the most basic item that it was lacking was the gps tracking. I gave this unit allot of leadway on its mistakes due to the fact that it had allot of cool stuff that it did, but its ability to track you and route you was not even close to what the basic garmin could due. Its like the prossesor that they installed in the TND 700 was 10 years old. Example if I needed to make a simple route change I.E. in town down to the next street due to the fact that I couldn't make the turn or the street was blocked off, it would take the TND 700 upwards of 45\n",
      "\n",
      "I've had mine for a year and here's what we got. It tries to route be down non truck routes while telling me the truck route is illegal for me. This is such a bad problem that even Interstate 25 in Denver Colorado is listed (according to this GPS) as a non- truck route and will route you through the city instead. There are several drivers within our company who own one and more than half (of about 50) have crashed to an un-recoverable state. Our company representative said that Rand McNally informed them that the GPS was not designed to say on for a long period of time. Really? it's a truck driver GPS. We have one driver with a $2400 dollar ticket due to this GPS routing him down the wrong road. The companies response was to update the unit. I've had mine for a year, I never noticed one update that corrected functionality, they only seem to keep messing the tools. I want a GPS that routes, if I wanted tools I'd buy software for my computer.My suggestion is to by a nice Garmen. My one rated for cars actually routes me better than this one rated\n",
      "\n"
     ]
    }
   ],
   "source": [
    "for i in product_reviews.iloc[0][\"reviews\"]:\n",
    "    print(i, end=\"\\n\\n\")"
   ]
  },
  {
   "cell_type": "code",
   "execution_count": 23,
   "id": "8e9c9f5e",
   "metadata": {},
   "outputs": [
    {
     "name": "stdout",
     "output_type": "stream",
     "text": [
      "count    63000.000000\n",
      "mean        25.900794\n",
      "std         74.277488\n",
      "min          1.000000\n",
      "25%          6.000000\n",
      "50%         10.000000\n",
      "75%         22.000000\n",
      "max       4833.000000\n",
      "Name: reviews_count, dtype: float64\n"
     ]
    }
   ],
   "source": [
    "# Summary stats\n",
    "print(product_reviews[\"reviews_count\"].describe())"
   ]
  },
  {
   "cell_type": "markdown",
   "id": "e68da057",
   "metadata": {},
   "source": [
    "### Load and Check final processed product reviews"
   ]
  },
  {
   "cell_type": "code",
   "execution_count": 24,
   "id": "e49aad28",
   "metadata": {},
   "outputs": [],
   "source": [
    "# Load data\n",
    "df = pd.read_parquet(\"artifacts/data/processed/processed_product_reviews.parquet\")"
   ]
  },
  {
   "cell_type": "code",
   "execution_count": 25,
   "id": "e72e9827",
   "metadata": {},
   "outputs": [
    {
     "data": {
      "text/html": [
       "<div>\n",
       "<style scoped>\n",
       "    .dataframe tbody tr th:only-of-type {\n",
       "        vertical-align: middle;\n",
       "    }\n",
       "\n",
       "    .dataframe tbody tr th {\n",
       "        vertical-align: top;\n",
       "    }\n",
       "\n",
       "    .dataframe thead th {\n",
       "        text-align: right;\n",
       "    }\n",
       "</style>\n",
       "<table border=\"1\" class=\"dataframe\">\n",
       "  <thead>\n",
       "    <tr style=\"text-align: right;\">\n",
       "      <th></th>\n",
       "      <th>product_id</th>\n",
       "      <th>reviews</th>\n",
       "      <th>reviews_count</th>\n",
       "    </tr>\n",
       "  </thead>\n",
       "  <tbody>\n",
       "    <tr>\n",
       "      <th>0</th>\n",
       "      <td>0594451647</td>\n",
       "      <td>[I am using this with a Nook HD+. It works as ...</td>\n",
       "      <td>5</td>\n",
       "    </tr>\n",
       "    <tr>\n",
       "      <th>1</th>\n",
       "      <td>0594481813</td>\n",
       "      <td>[This item is just as was described in the ori...</td>\n",
       "      <td>8</td>\n",
       "    </tr>\n",
       "    <tr>\n",
       "      <th>2</th>\n",
       "      <td>0972683275</td>\n",
       "      <td>[This mount works really well once you get it ...</td>\n",
       "      <td>10</td>\n",
       "    </tr>\n",
       "    <tr>\n",
       "      <th>3</th>\n",
       "      <td>1400501466</td>\n",
       "      <td>[this is such a great tablet. one time didn't ...</td>\n",
       "      <td>10</td>\n",
       "    </tr>\n",
       "    <tr>\n",
       "      <th>4</th>\n",
       "      <td>1400501520</td>\n",
       "      <td>[I bought the Nook primarily for reading but w...</td>\n",
       "      <td>10</td>\n",
       "    </tr>\n",
       "  </tbody>\n",
       "</table>\n",
       "</div>"
      ],
      "text/plain": [
       "   product_id                                            reviews  \\\n",
       "0  0594451647  [I am using this with a Nook HD+. It works as ...   \n",
       "1  0594481813  [This item is just as was described in the ori...   \n",
       "2  0972683275  [This mount works really well once you get it ...   \n",
       "3  1400501466  [this is such a great tablet. one time didn't ...   \n",
       "4  1400501520  [I bought the Nook primarily for reading but w...   \n",
       "\n",
       "   reviews_count  \n",
       "0              5  \n",
       "1              8  \n",
       "2             10  \n",
       "3             10  \n",
       "4             10  "
      ]
     },
     "execution_count": 25,
     "metadata": {},
     "output_type": "execute_result"
    }
   ],
   "source": [
    "df.head()"
   ]
  },
  {
   "cell_type": "code",
   "execution_count": 26,
   "id": "8d3a6d8b",
   "metadata": {},
   "outputs": [
    {
     "name": "stdout",
     "output_type": "stream",
     "text": [
      "<class 'pandas.core.frame.DataFrame'>\n",
      "RangeIndex: 61457 entries, 0 to 61456\n",
      "Data columns (total 3 columns):\n",
      " #   Column         Non-Null Count  Dtype \n",
      "---  ------         --------------  ----- \n",
      " 0   product_id     61457 non-null  object\n",
      " 1   reviews        61457 non-null  object\n",
      " 2   reviews_count  61457 non-null  int64 \n",
      "dtypes: int64(1), object(2)\n",
      "memory usage: 1.4+ MB\n"
     ]
    }
   ],
   "source": [
    "df.info()"
   ]
  },
  {
   "cell_type": "code",
   "execution_count": 27,
   "id": "9da179e8",
   "metadata": {},
   "outputs": [
    {
     "data": {
      "text/plain": [
       "count    61457.000000\n",
       "mean         8.445303\n",
       "std          1.959348\n",
       "min          5.000000\n",
       "25%          7.000000\n",
       "50%         10.000000\n",
       "75%         10.000000\n",
       "max         10.000000\n",
       "Name: reviews_count, dtype: float64"
      ]
     },
     "execution_count": 27,
     "metadata": {},
     "output_type": "execute_result"
    }
   ],
   "source": [
    "df[\"reviews_count\"].describe()"
   ]
  },
  {
   "cell_type": "code",
   "execution_count": 28,
   "id": "1a3b1148",
   "metadata": {},
   "outputs": [
    {
     "name": "stdout",
     "output_type": "stream",
     "text": [
      "This item is just as was described in the original description, works without any issues to be seen. Good product\n",
      "\n",
      "bought for a spare for my 9&#34; Nook HD and it fit perfectly.  Very satisfied with the price much less than on the BN site\n",
      "\n",
      "My son crewed my HD charger cord so I needed another one, this is exactly like the one my son destroyed.\n",
      "\n",
      "This is a good beefy 2 amp charger, but it covers two outlets on a power strip. It's ok in a regular wall outlet. The best thing is it uses a standard USB connector so it can charge more than just a Nook (I have a Kindle Fire HD+).\n",
      "\n",
      "I lost my B&N original cable.  I looked around for an new one.  I tried  a different, cheaper model but it didn't fit my device properly so back to the drawing board.  I ordered this one.  I am satisfied.  It works exactly as expected and fits perfectly.  I would recommend this product to anyone looking for a spare or in lieu of the original usb cable adapter.\n",
      "\n",
      "It does 2A and charges a DEAD Nook in a few hours. It does so with a LOT of heat, compared to most wall worts. I have a dual charger where 1 port is 2.1A and the other is 1A for total output of 3.1A that doesn't run as hot as this. And i use that to power a raspberry pi to avoid needing a powered hubIt does the job adequately as it's designed to. Just hot. I would always unplug it if not using (even though it cools off) because of the amount of heat made. The nook hd+ runs hot too right where you hold it on the left side in portrait, but not so much when charging. I guess it's better to have it at the plug.\n",
      "\n",
      "Go to Target or Barnes and Noble instead, and pay $25 (which is still a huge markup, considering they make the thing for 50 cents.) This is the worst option if you need one of these. It's price gouging, pure and simple.\n",
      "\n",
      "Works well, a little pricey I think for a charging cable, but then again, not losing the original would be a lot cheaper than any replacement\n",
      "\n"
     ]
    }
   ],
   "source": [
    "for review in df.iloc[1][\"reviews\"]:\n",
    "    print(review, end=\"\\n\\n\")"
   ]
  },
  {
   "cell_type": "markdown",
   "id": "e56f5e8f",
   "metadata": {},
   "source": [
    "### Exploring Instruction Answer dataset for training\n",
    "##### Pros and Cons are generated with GPT-4o-mini from review list for each product."
   ]
  },
  {
   "cell_type": "code",
   "execution_count": 29,
   "id": "c11e30a9",
   "metadata": {},
   "outputs": [],
   "source": [
    "import json\n",
    "\n",
    "data = []\n",
    "with open(\"instruction_answers.jsonl\", \"r\", encoding=\"utf-8\") as f:\n",
    "    for line in f:\n",
    "        data.append(json.loads(line))"
   ]
  },
  {
   "cell_type": "code",
   "execution_count": 30,
   "id": "e00ed17e",
   "metadata": {},
   "outputs": [
    {
     "name": "stdout",
     "output_type": "stream",
     "text": [
      "['I am using this with a Nook HD+. It works as described. The HD picture on my Samsung 52&#34; TV is excellent.', 'The cable is very wobbly and sometimes disconnects itself.The price is completely unfair and only works with the Nook HD and HD+', \"This adaptor is real easy to setup and use right out of the box. I had not problem with it at all, it is well worth the purchase. I recommend this adaptor very much for viewing your Nook videos on your HDTV. I just disagree with other reviews on the length of the adaptor, I found it to be fairly adequate as to how and where it is connected to my TV. For me it was just right not too long or too short, I was able to place my Nook right below the connection on the TV stand, it did not fall or anything else, it is fine. Use your own judgement, I'm too busy watching my movies :)\", 'This adapter easily connects my Nook HD 7&#34; to my HDTV through the HDMI cable.  This is good for traveling because it makes any hotel TV a potential smart TV so long as there is an accessible HDMI port.  It is also good for sharing photos from FB on a bigger screen. A bit pricey, but a good accessory to have.  Be sure to note that this is ONLY for the Nook HD and HD+ series.  It will not work with a standard Nook.', 'This product really works great but I found the following items you need to keep in mind:- You must have your power adapter connected for it to work...it plugs in the the bottom. It appears it needs power from the nook power adapter to operate.- The plug fits in loosely and you cannot move the Nook around much without holding the adapter in place.- On initial plugin it seems you need to rock it around to get the connection but then it seems solid.- It works with a 25ft high quality HDMI cable so you can put the NOOK across the room with you. Not tested with cheap cables.Warning...I found that my LG SmartTV 3D from a few years back does not work with this adapter but it does not seem to work with many things...bad software. This adapter works fine with other HDMI devices I have used like monitors and I am sure other TVs.Gave it five stars because it really is nice to extend the screen and use your Nook as a streaming server to your TV. Nice they made such a device.']\n"
     ]
    }
   ],
   "source": [
    "print(data[0][\"input\"])"
   ]
  },
  {
   "cell_type": "code",
   "execution_count": 31,
   "id": "e5d92953",
   "metadata": {},
   "outputs": [
    {
     "name": "stdout",
     "output_type": "stream",
     "text": [
      "{\"pros\": [\"Excellent HD picture quality on TV\", \"Easy to setup and use right out of the box\", \"Good for traveling, makes hotel TVs smart\", \"Useful for sharing photos on a bigger screen\", \"Works well with other HDMI devices\", \"Allows Nook to be used as a streaming server to TV\"], \"cons\": [\"Cable is wobbly and can disconnect easily\", \"Price is considered unfair\", \"Only works with Nook HD and HD+ series\", \"Requires power adapter connected to function\", \"Loose plug makes it hard to move Nook without holding adapter\", \"Initial connection may require adjustment\", \"Incompatible with some TVs, like LG SmartTV 3D\"]}\n"
     ]
    }
   ],
   "source": [
    "print(data[0][\"answer\"])"
   ]
  },
  {
   "cell_type": "code",
   "execution_count": 32,
   "id": "4c4956a5",
   "metadata": {},
   "outputs": [
    {
     "data": {
      "text/plain": [
       "{'instruction': 'Generate pros and cons from the following product reviews.',\n",
       " 'input': ['This item is just as was described in the original description, works without any issues to be seen. Good product',\n",
       "  'bought for a spare for my 9&#34; Nook HD and it fit perfectly.  Very satisfied with the price much less than on the BN site',\n",
       "  'My son crewed my HD charger cord so I needed another one, this is exactly like the one my son destroyed.',\n",
       "  \"This is a good beefy 2 amp charger, but it covers two outlets on a power strip. It's ok in a regular wall outlet. The best thing is it uses a standard USB connector so it can charge more than just a Nook (I have a Kindle Fire HD+).\",\n",
       "  \"I lost my B&N original cable.  I looked around for an new one.  I tried  a different, cheaper model but it didn't fit my device properly so back to the drawing board.  I ordered this one.  I am satisfied.  It works exactly as expected and fits perfectly.  I would recommend this product to anyone looking for a spare or in lieu of the original usb cable adapter.\",\n",
       "  \"It does 2A and charges a DEAD Nook in a few hours. It does so with a LOT of heat, compared to most wall worts. I have a dual charger where 1 port is 2.1A and the other is 1A for total output of 3.1A that doesn't run as hot as this. And i use that to power a raspberry pi to avoid needing a powered hubIt does the job adequately as it's designed to. Just hot. I would always unplug it if not using (even though it cools off) because of the amount of heat made. The nook hd+ runs hot too right where you hold it on the left side in portrait, but not so much when charging. I guess it's better to have it at the plug.\",\n",
       "  \"Go to Target or Barnes and Noble instead, and pay $25 (which is still a huge markup, considering they make the thing for 50 cents.) This is the worst option if you need one of these. It's price gouging, pure and simple.\",\n",
       "  'Works well, a little pricey I think for a charging cable, but then again, not losing the original would be a lot cheaper than any replacement'],\n",
       " 'answer': '{\"pros\": [\"Works as described without issues\", \"Fits perfectly for Nook HD\", \"Good quality 2 amp charger\", \"Uses a standard USB connector for versatility\", \"Charges a dead Nook in a few hours\", \"Satisfactory performance and fit\", \"Adequate charging capability\"], \"cons\": [\"Covers two outlets on a power strip\", \"Produces a lot of heat during charging\", \"Considered pricey compared to alternatives\", \"Some reviews suggest price gouging\"]}'}"
      ]
     },
     "execution_count": 32,
     "metadata": {},
     "output_type": "execute_result"
    }
   ],
   "source": [
    "data[1]"
   ]
  },
  {
   "cell_type": "code",
   "execution_count": null,
   "id": "cd248c5f",
   "metadata": {},
   "outputs": [],
   "source": []
  }
 ],
 "metadata": {
  "kernelspec": {
   "display_name": ".venv",
   "language": "python",
   "name": "python3"
  },
  "language_info": {
   "codemirror_mode": {
    "name": "ipython",
    "version": 3
   },
   "file_extension": ".py",
   "mimetype": "text/x-python",
   "name": "python",
   "nbconvert_exporter": "python",
   "pygments_lexer": "ipython3",
   "version": "3.11.2"
  }
 },
 "nbformat": 4,
 "nbformat_minor": 5
}
